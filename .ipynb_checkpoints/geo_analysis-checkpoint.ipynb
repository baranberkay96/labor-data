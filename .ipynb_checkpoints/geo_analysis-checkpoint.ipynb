{
 "cells": [
  {
   "cell_type": "code",
   "execution_count": 2,
   "metadata": {},
   "outputs": [],
   "source": [
    "import pandas as pd"
   ]
  },
  {
   "cell_type": "code",
   "execution_count": 3,
   "metadata": {},
   "outputs": [],
   "source": [
    "parish2district = pd.read_csv('parish2district.csv')"
   ]
  },
  {
   "cell_type": "code",
   "execution_count": 4,
   "metadata": {},
   "outputs": [
    {
     "data": {
      "text/html": [
       "<div>\n",
       "<style scoped>\n",
       "    .dataframe tbody tr th:only-of-type {\n",
       "        vertical-align: middle;\n",
       "    }\n",
       "\n",
       "    .dataframe tbody tr th {\n",
       "        vertical-align: top;\n",
       "    }\n",
       "\n",
       "    .dataframe thead th {\n",
       "        text-align: right;\n",
       "    }\n",
       "</style>\n",
       "<table border=\"1\" class=\"dataframe\">\n",
       "  <thead>\n",
       "    <tr style=\"text-align: right;\">\n",
       "      <th></th>\n",
       "      <th>FID</th>\n",
       "      <th>PAR19CD</th>\n",
       "      <th>PAR19NM</th>\n",
       "      <th>WD19CD</th>\n",
       "      <th>WD19NM</th>\n",
       "      <th>LAD19CD</th>\n",
       "      <th>LAD19NM</th>\n",
       "    </tr>\n",
       "  </thead>\n",
       "  <tbody>\n",
       "    <tr>\n",
       "      <th>0</th>\n",
       "      <td>1</td>\n",
       "      <td>E04000257</td>\n",
       "      <td>Greatham</td>\n",
       "      <td>E05008944</td>\n",
       "      <td>Fens and Rossmere</td>\n",
       "      <td>E06000001</td>\n",
       "      <td>Hartlepool</td>\n",
       "    </tr>\n",
       "    <tr>\n",
       "      <th>1</th>\n",
       "      <td>2</td>\n",
       "      <td>E04000258</td>\n",
       "      <td>Hart</td>\n",
       "      <td>E05008946</td>\n",
       "      <td>Hart</td>\n",
       "      <td>E06000001</td>\n",
       "      <td>Hartlepool</td>\n",
       "    </tr>\n",
       "    <tr>\n",
       "      <th>2</th>\n",
       "      <td>3</td>\n",
       "      <td>E04000260</td>\n",
       "      <td>Headland</td>\n",
       "      <td>E05008947</td>\n",
       "      <td>Headland and Harbour</td>\n",
       "      <td>E06000001</td>\n",
       "      <td>Hartlepool</td>\n",
       "    </tr>\n",
       "    <tr>\n",
       "      <th>3</th>\n",
       "      <td>4</td>\n",
       "      <td>E04000253</td>\n",
       "      <td>Brierton</td>\n",
       "      <td>E05008950</td>\n",
       "      <td>Rural West</td>\n",
       "      <td>E06000001</td>\n",
       "      <td>Hartlepool</td>\n",
       "    </tr>\n",
       "    <tr>\n",
       "      <th>4</th>\n",
       "      <td>5</td>\n",
       "      <td>E04000254</td>\n",
       "      <td>Claxton</td>\n",
       "      <td>E05008950</td>\n",
       "      <td>Rural West</td>\n",
       "      <td>E06000001</td>\n",
       "      <td>Hartlepool</td>\n",
       "    </tr>\n",
       "  </tbody>\n",
       "</table>\n",
       "</div>"
      ],
      "text/plain": [
       "   FID    PAR19CD   PAR19NM     WD19CD                WD19NM    LAD19CD  \\\n",
       "0    1  E04000257  Greatham  E05008944     Fens and Rossmere  E06000001   \n",
       "1    2  E04000258      Hart  E05008946                  Hart  E06000001   \n",
       "2    3  E04000260  Headland  E05008947  Headland and Harbour  E06000001   \n",
       "3    4  E04000253  Brierton  E05008950            Rural West  E06000001   \n",
       "4    5  E04000254   Claxton  E05008950            Rural West  E06000001   \n",
       "\n",
       "      LAD19NM  \n",
       "0  Hartlepool  \n",
       "1  Hartlepool  \n",
       "2  Hartlepool  \n",
       "3  Hartlepool  \n",
       "4  Hartlepool  "
      ]
     },
     "execution_count": 4,
     "metadata": {},
     "output_type": "execute_result"
    }
   ],
   "source": [
    "parish2district.head()"
   ]
  },
  {
   "cell_type": "code",
   "execution_count": 5,
   "metadata": {},
   "outputs": [],
   "source": [
    "areas = pd.read_csv('UKAreas.csv')"
   ]
  },
  {
   "cell_type": "code",
   "execution_count": 6,
   "metadata": {},
   "outputs": [
    {
     "data": {
      "text/html": [
       "<div>\n",
       "<style scoped>\n",
       "    .dataframe tbody tr th:only-of-type {\n",
       "        vertical-align: middle;\n",
       "    }\n",
       "\n",
       "    .dataframe tbody tr th {\n",
       "        vertical-align: top;\n",
       "    }\n",
       "\n",
       "    .dataframe thead th {\n",
       "        text-align: right;\n",
       "    }\n",
       "</style>\n",
       "<table border=\"1\" class=\"dataframe\">\n",
       "  <thead>\n",
       "    <tr style=\"text-align: right;\">\n",
       "      <th></th>\n",
       "      <th>Name</th>\n",
       "      <th>Type</th>\n",
       "    </tr>\n",
       "  </thead>\n",
       "  <tbody>\n",
       "    <tr>\n",
       "      <th>0</th>\n",
       "      <td>East of England</td>\n",
       "      <td>Regions</td>\n",
       "    </tr>\n",
       "    <tr>\n",
       "      <th>1</th>\n",
       "      <td>East Midlands</td>\n",
       "      <td>Regions</td>\n",
       "    </tr>\n",
       "    <tr>\n",
       "      <th>2</th>\n",
       "      <td>London</td>\n",
       "      <td>Regions</td>\n",
       "    </tr>\n",
       "    <tr>\n",
       "      <th>3</th>\n",
       "      <td>North East</td>\n",
       "      <td>Regions</td>\n",
       "    </tr>\n",
       "    <tr>\n",
       "      <th>4</th>\n",
       "      <td>North West</td>\n",
       "      <td>Regions</td>\n",
       "    </tr>\n",
       "  </tbody>\n",
       "</table>\n",
       "</div>"
      ],
      "text/plain": [
       "              Name     Type\n",
       "0  East of England  Regions\n",
       "1    East Midlands  Regions\n",
       "2           London  Regions\n",
       "3       North East  Regions\n",
       "4       North West  Regions"
      ]
     },
     "execution_count": 6,
     "metadata": {},
     "output_type": "execute_result"
    }
   ],
   "source": [
    "areas.head()"
   ]
  },
  {
   "cell_type": "code",
   "execution_count": 7,
   "metadata": {},
   "outputs": [],
   "source": [
    "p2areas = parish2district[['PAR19NM']]"
   ]
  },
  {
   "cell_type": "code",
   "execution_count": 8,
   "metadata": {},
   "outputs": [
    {
     "name": "stderr",
     "output_type": "stream",
     "text": [
      "/var/folders/fp/krc_7dfx3j5bpttbrg2p_vnr0000gn/T/ipykernel_32991/1993610312.py:1: SettingWithCopyWarning: \n",
      "A value is trying to be set on a copy of a slice from a DataFrame.\n",
      "Try using .loc[row_indexer,col_indexer] = value instead\n",
      "\n",
      "See the caveats in the documentation: https://pandas.pydata.org/pandas-docs/stable/user_guide/indexing.html#returning-a-view-versus-a-copy\n",
      "  p2areas['Type'] = 'Parish'\n"
     ]
    }
   ],
   "source": [
    "p2areas['Type'] = 'Parish'\n",
    "p2areas = p2areas.rename(columns={'PAR19NM': 'Name'})"
   ]
  },
  {
   "cell_type": "code",
   "execution_count": 9,
   "metadata": {},
   "outputs": [
    {
     "data": {
      "text/html": [
       "<div>\n",
       "<style scoped>\n",
       "    .dataframe tbody tr th:only-of-type {\n",
       "        vertical-align: middle;\n",
       "    }\n",
       "\n",
       "    .dataframe tbody tr th {\n",
       "        vertical-align: top;\n",
       "    }\n",
       "\n",
       "    .dataframe thead th {\n",
       "        text-align: right;\n",
       "    }\n",
       "</style>\n",
       "<table border=\"1\" class=\"dataframe\">\n",
       "  <thead>\n",
       "    <tr style=\"text-align: right;\">\n",
       "      <th></th>\n",
       "      <th>Name</th>\n",
       "      <th>Type</th>\n",
       "    </tr>\n",
       "  </thead>\n",
       "  <tbody>\n",
       "    <tr>\n",
       "      <th>0</th>\n",
       "      <td>Greatham</td>\n",
       "      <td>Parish</td>\n",
       "    </tr>\n",
       "    <tr>\n",
       "      <th>1</th>\n",
       "      <td>Hart</td>\n",
       "      <td>Parish</td>\n",
       "    </tr>\n",
       "    <tr>\n",
       "      <th>2</th>\n",
       "      <td>Headland</td>\n",
       "      <td>Parish</td>\n",
       "    </tr>\n",
       "    <tr>\n",
       "      <th>3</th>\n",
       "      <td>Brierton</td>\n",
       "      <td>Parish</td>\n",
       "    </tr>\n",
       "    <tr>\n",
       "      <th>4</th>\n",
       "      <td>Claxton</td>\n",
       "      <td>Parish</td>\n",
       "    </tr>\n",
       "  </tbody>\n",
       "</table>\n",
       "</div>"
      ],
      "text/plain": [
       "       Name    Type\n",
       "0  Greatham  Parish\n",
       "1      Hart  Parish\n",
       "2  Headland  Parish\n",
       "3  Brierton  Parish\n",
       "4   Claxton  Parish"
      ]
     },
     "execution_count": 9,
     "metadata": {},
     "output_type": "execute_result"
    }
   ],
   "source": [
    "p2areas.head()"
   ]
  },
  {
   "cell_type": "code",
   "execution_count": 10,
   "metadata": {},
   "outputs": [],
   "source": [
    "townsAndCities = pd.read_csv('townsandcities.csv')"
   ]
  },
  {
   "cell_type": "code",
   "execution_count": 11,
   "metadata": {},
   "outputs": [
    {
     "data": {
      "text/html": [
       "<div>\n",
       "<style scoped>\n",
       "    .dataframe tbody tr th:only-of-type {\n",
       "        vertical-align: middle;\n",
       "    }\n",
       "\n",
       "    .dataframe tbody tr th {\n",
       "        vertical-align: top;\n",
       "    }\n",
       "\n",
       "    .dataframe thead th {\n",
       "        text-align: right;\n",
       "    }\n",
       "</style>\n",
       "<table border=\"1\" class=\"dataframe\">\n",
       "  <thead>\n",
       "    <tr style=\"text-align: right;\">\n",
       "      <th></th>\n",
       "      <th>FID</th>\n",
       "      <th>TCITY15CD</th>\n",
       "      <th>TCITY15NM</th>\n",
       "    </tr>\n",
       "  </thead>\n",
       "  <tbody>\n",
       "    <tr>\n",
       "      <th>0</th>\n",
       "      <td>1</td>\n",
       "      <td>J01000001</td>\n",
       "      <td>Barnsley</td>\n",
       "    </tr>\n",
       "    <tr>\n",
       "      <th>1</th>\n",
       "      <td>2</td>\n",
       "      <td>J01000002</td>\n",
       "      <td>Basildon</td>\n",
       "    </tr>\n",
       "    <tr>\n",
       "      <th>2</th>\n",
       "      <td>3</td>\n",
       "      <td>J01000003</td>\n",
       "      <td>Basingstoke</td>\n",
       "    </tr>\n",
       "    <tr>\n",
       "      <th>3</th>\n",
       "      <td>4</td>\n",
       "      <td>J01000004</td>\n",
       "      <td>Bath</td>\n",
       "    </tr>\n",
       "    <tr>\n",
       "      <th>4</th>\n",
       "      <td>5</td>\n",
       "      <td>J01000005</td>\n",
       "      <td>Bedford</td>\n",
       "    </tr>\n",
       "  </tbody>\n",
       "</table>\n",
       "</div>"
      ],
      "text/plain": [
       "   FID  TCITY15CD    TCITY15NM\n",
       "0    1  J01000001     Barnsley\n",
       "1    2  J01000002     Basildon\n",
       "2    3  J01000003  Basingstoke\n",
       "3    4  J01000004         Bath\n",
       "4    5  J01000005      Bedford"
      ]
     },
     "execution_count": 11,
     "metadata": {},
     "output_type": "execute_result"
    }
   ],
   "source": [
    "townsAndCities.head()"
   ]
  },
  {
   "cell_type": "code",
   "execution_count": 12,
   "metadata": {},
   "outputs": [],
   "source": [
    "townsAndCities['Type'] = 'Town'\n",
    "townsAndCities = p2areas.rename(columns={'TCITY15NM': 'Name'})"
   ]
  },
  {
   "cell_type": "code",
   "execution_count": 39,
   "metadata": {},
   "outputs": [
    {
     "data": {
      "text/html": [
       "<div>\n",
       "<style scoped>\n",
       "    .dataframe tbody tr th:only-of-type {\n",
       "        vertical-align: middle;\n",
       "    }\n",
       "\n",
       "    .dataframe tbody tr th {\n",
       "        vertical-align: top;\n",
       "    }\n",
       "\n",
       "    .dataframe thead th {\n",
       "        text-align: right;\n",
       "    }\n",
       "</style>\n",
       "<table border=\"1\" class=\"dataframe\">\n",
       "  <thead>\n",
       "    <tr style=\"text-align: right;\">\n",
       "      <th></th>\n",
       "      <th>Ward Code</th>\n",
       "      <th>Ward Name</th>\n",
       "      <th>LA Code</th>\n",
       "    </tr>\n",
       "  </thead>\n",
       "  <tbody>\n",
       "    <tr>\n",
       "      <th>0</th>\n",
       "      <td>E05000026</td>\n",
       "      <td>Abbey</td>\n",
       "      <td>E09000002</td>\n",
       "    </tr>\n",
       "    <tr>\n",
       "      <th>1</th>\n",
       "      <td>E05000027</td>\n",
       "      <td>Alibon</td>\n",
       "      <td>E09000002</td>\n",
       "    </tr>\n",
       "    <tr>\n",
       "      <th>2</th>\n",
       "      <td>E05000028</td>\n",
       "      <td>Becontree</td>\n",
       "      <td>E09000002</td>\n",
       "    </tr>\n",
       "    <tr>\n",
       "      <th>3</th>\n",
       "      <td>E05000029</td>\n",
       "      <td>Chadwell Heath</td>\n",
       "      <td>E09000002</td>\n",
       "    </tr>\n",
       "    <tr>\n",
       "      <th>4</th>\n",
       "      <td>E05000030</td>\n",
       "      <td>Eastbrook</td>\n",
       "      <td>E09000002</td>\n",
       "    </tr>\n",
       "  </tbody>\n",
       "</table>\n",
       "</div>"
      ],
      "text/plain": [
       "   Ward Code       Ward Name    LA Code\n",
       "0  E05000026           Abbey  E09000002\n",
       "1  E05000027          Alibon  E09000002\n",
       "2  E05000028       Becontree  E09000002\n",
       "3  E05000029  Chadwell Heath  E09000002\n",
       "4  E05000030       Eastbrook  E09000002"
      ]
     },
     "execution_count": 39,
     "metadata": {},
     "output_type": "execute_result"
    }
   ],
   "source": [
    "wards = pd.read_csv('wards.csv', sep=';')\n",
    "wards.head()"
   ]
  },
  {
   "cell_type": "code",
   "execution_count": 40,
   "metadata": {},
   "outputs": [],
   "source": [
    "del wards['LA Code']\n",
    "del wards['Ward Code']"
   ]
  },
  {
   "cell_type": "code",
   "execution_count": 41,
   "metadata": {},
   "outputs": [
    {
     "data": {
      "text/html": [
       "<div>\n",
       "<style scoped>\n",
       "    .dataframe tbody tr th:only-of-type {\n",
       "        vertical-align: middle;\n",
       "    }\n",
       "\n",
       "    .dataframe tbody tr th {\n",
       "        vertical-align: top;\n",
       "    }\n",
       "\n",
       "    .dataframe thead th {\n",
       "        text-align: right;\n",
       "    }\n",
       "</style>\n",
       "<table border=\"1\" class=\"dataframe\">\n",
       "  <thead>\n",
       "    <tr style=\"text-align: right;\">\n",
       "      <th></th>\n",
       "      <th>Ward Name</th>\n",
       "    </tr>\n",
       "  </thead>\n",
       "  <tbody>\n",
       "    <tr>\n",
       "      <th>0</th>\n",
       "      <td>Abbey</td>\n",
       "    </tr>\n",
       "    <tr>\n",
       "      <th>1</th>\n",
       "      <td>Alibon</td>\n",
       "    </tr>\n",
       "    <tr>\n",
       "      <th>2</th>\n",
       "      <td>Becontree</td>\n",
       "    </tr>\n",
       "    <tr>\n",
       "      <th>3</th>\n",
       "      <td>Chadwell Heath</td>\n",
       "    </tr>\n",
       "    <tr>\n",
       "      <th>4</th>\n",
       "      <td>Eastbrook</td>\n",
       "    </tr>\n",
       "  </tbody>\n",
       "</table>\n",
       "</div>"
      ],
      "text/plain": [
       "        Ward Name\n",
       "0           Abbey\n",
       "1          Alibon\n",
       "2       Becontree\n",
       "3  Chadwell Heath\n",
       "4       Eastbrook"
      ]
     },
     "execution_count": 41,
     "metadata": {},
     "output_type": "execute_result"
    }
   ],
   "source": [
    "wards['Type'] = 'Ward'"
   ]
  },
  {
   "cell_type": "code",
   "execution_count": 13,
   "metadata": {},
   "outputs": [],
   "source": [
    "areasWithParish = pd.concat([p2areas, areas, townsAndCities], ignore_index=True)"
   ]
  },
  {
   "cell_type": "code",
   "execution_count": 14,
   "metadata": {},
   "outputs": [
    {
     "data": {
      "text/html": [
       "<div>\n",
       "<style scoped>\n",
       "    .dataframe tbody tr th:only-of-type {\n",
       "        vertical-align: middle;\n",
       "    }\n",
       "\n",
       "    .dataframe tbody tr th {\n",
       "        vertical-align: top;\n",
       "    }\n",
       "\n",
       "    .dataframe thead th {\n",
       "        text-align: right;\n",
       "    }\n",
       "</style>\n",
       "<table border=\"1\" class=\"dataframe\">\n",
       "  <thead>\n",
       "    <tr style=\"text-align: right;\">\n",
       "      <th></th>\n",
       "      <th>Name</th>\n",
       "      <th>Type</th>\n",
       "    </tr>\n",
       "  </thead>\n",
       "  <tbody>\n",
       "    <tr>\n",
       "      <th>27154</th>\n",
       "      <td>Clyro</td>\n",
       "      <td>Parish</td>\n",
       "    </tr>\n",
       "    <tr>\n",
       "      <th>27155</th>\n",
       "      <td>Glasbury</td>\n",
       "      <td>Parish</td>\n",
       "    </tr>\n",
       "    <tr>\n",
       "      <th>27156</th>\n",
       "      <td>Painscastle</td>\n",
       "      <td>Parish</td>\n",
       "    </tr>\n",
       "    <tr>\n",
       "      <th>27157</th>\n",
       "      <td>Castle Caereinion</td>\n",
       "      <td>Parish</td>\n",
       "    </tr>\n",
       "    <tr>\n",
       "      <th>27158</th>\n",
       "      <td>Guilsfield</td>\n",
       "      <td>Parish</td>\n",
       "    </tr>\n",
       "  </tbody>\n",
       "</table>\n",
       "</div>"
      ],
      "text/plain": [
       "                    Name    Type\n",
       "27154              Clyro  Parish\n",
       "27155           Glasbury  Parish\n",
       "27156        Painscastle  Parish\n",
       "27157  Castle Caereinion  Parish\n",
       "27158         Guilsfield  Parish"
      ]
     },
     "execution_count": 14,
     "metadata": {},
     "output_type": "execute_result"
    }
   ],
   "source": [
    "areasWithParish.tail()"
   ]
  },
  {
   "cell_type": "code",
   "execution_count": 15,
   "metadata": {},
   "outputs": [],
   "source": [
    "vacancies = pd.read_csv('vacancies.csv', sep='|')"
   ]
  },
  {
   "cell_type": "code",
   "execution_count": 16,
   "metadata": {},
   "outputs": [
    {
     "data": {
      "text/html": [
       "<div>\n",
       "<style scoped>\n",
       "    .dataframe tbody tr th:only-of-type {\n",
       "        vertical-align: middle;\n",
       "    }\n",
       "\n",
       "    .dataframe tbody tr th {\n",
       "        vertical-align: top;\n",
       "    }\n",
       "\n",
       "    .dataframe thead th {\n",
       "        text-align: right;\n",
       "    }\n",
       "</style>\n",
       "<table border=\"1\" class=\"dataframe\">\n",
       "  <thead>\n",
       "    <tr style=\"text-align: right;\">\n",
       "      <th></th>\n",
       "      <th>id</th>\n",
       "      <th>id_x</th>\n",
       "      <th>job_title</th>\n",
       "      <th>source_id</th>\n",
       "      <th>job_sector</th>\n",
       "      <th>type</th>\n",
       "      <th>county</th>\n",
       "      <th>city</th>\n",
       "      <th>posted_by</th>\n",
       "      <th>publish_date</th>\n",
       "      <th>floor_wage</th>\n",
       "      <th>ceiling_wage</th>\n",
       "      <th>currency</th>\n",
       "      <th>job_description</th>\n",
       "    </tr>\n",
       "  </thead>\n",
       "  <tbody>\n",
       "    <tr>\n",
       "      <th>0</th>\n",
       "      <td>0</td>\n",
       "      <td>1</td>\n",
       "      <td>Accounts Administrator. Ambitious IT Solutions...</td>\n",
       "      <td>26392152.0</td>\n",
       "      <td>part-time</td>\n",
       "      <td>per annum, pro-rata</td>\n",
       "      <td>Castle Donington</td>\n",
       "      <td>Castle Donington</td>\n",
       "      <td>Signum Solutions Ltd</td>\n",
       "      <td>2015-01-19</td>\n",
       "      <td>15,000</td>\n",
       "      <td>18,000</td>\n",
       "      <td>£</td>\n",
       "      <td>Signum Solutions Ltd is an ambitious IT Soluti...</td>\n",
       "    </tr>\n",
       "    <tr>\n",
       "      <th>1</th>\n",
       "      <td>1</td>\n",
       "      <td>2</td>\n",
       "      <td>Westside:- Branded High Fashion Retail Sales A...</td>\n",
       "      <td>26450070.0</td>\n",
       "      <td>part-time</td>\n",
       "      <td>per hour, negotiable</td>\n",
       "      <td>London</td>\n",
       "      <td>London</td>\n",
       "      <td>Westside</td>\n",
       "      <td>2015-02-03</td>\n",
       "      <td>7.00</td>\n",
       "      <td>10.00</td>\n",
       "      <td>£</td>\n",
       "      <td>WESTSIDE LONDON We are a fashion retailer loca...</td>\n",
       "    </tr>\n",
       "    <tr>\n",
       "      <th>2</th>\n",
       "      <td>2</td>\n",
       "      <td>3</td>\n",
       "      <td>Reservations Sales Specialist</td>\n",
       "      <td>26340069.0</td>\n",
       "      <td>birmingham</td>\n",
       "      <td>per annum</td>\n",
       "      <td>Brierley Hill</td>\n",
       "      <td>Brierley Hill</td>\n",
       "      <td>IHG</td>\n",
       "      <td>2015-01-13</td>\n",
       "      <td>15,838</td>\n",
       "      <td>16,233</td>\n",
       "      <td>£</td>\n",
       "      <td>IHG, the world's most global hotel company, is...</td>\n",
       "    </tr>\n",
       "    <tr>\n",
       "      <th>3</th>\n",
       "      <td>3</td>\n",
       "      <td>4</td>\n",
       "      <td>Marketing Assistant</td>\n",
       "      <td>26486503.0</td>\n",
       "      <td>birmingham</td>\n",
       "      <td>per annum</td>\n",
       "      <td>Birmingham</td>\n",
       "      <td>Birmingham</td>\n",
       "      <td>KSA Associates</td>\n",
       "      <td>2015-02-02</td>\n",
       "      <td>18,000</td>\n",
       "      <td>20,000</td>\n",
       "      <td>£</td>\n",
       "      <td>We are a young and energetic Accountancy pract...</td>\n",
       "    </tr>\n",
       "    <tr>\n",
       "      <th>4</th>\n",
       "      <td>4</td>\n",
       "      <td>5</td>\n",
       "      <td>Store Manager</td>\n",
       "      <td>26477487.0</td>\n",
       "      <td>ireland</td>\n",
       "      <td>per annum</td>\n",
       "      <td>Ireland</td>\n",
       "      <td>Ireland</td>\n",
       "      <td>Reed</td>\n",
       "      <td>2015-02-03</td>\n",
       "      <td>50,000</td>\n",
       "      <td>55,000</td>\n",
       "      <td>€</td>\n",
       "      <td>Job Description Highly experienced Store Manag...</td>\n",
       "    </tr>\n",
       "  </tbody>\n",
       "</table>\n",
       "</div>"
      ],
      "text/plain": [
       "   id  id_x                                          job_title   source_id  \\\n",
       "0   0     1  Accounts Administrator. Ambitious IT Solutions...  26392152.0   \n",
       "1   1     2  Westside:- Branded High Fashion Retail Sales A...  26450070.0   \n",
       "2   2     3                      Reservations Sales Specialist  26340069.0   \n",
       "3   3     4                                Marketing Assistant  26486503.0   \n",
       "4   4     5                                      Store Manager  26477487.0   \n",
       "\n",
       "   job_sector                   type            county              city  \\\n",
       "0   part-time    per annum, pro-rata  Castle Donington  Castle Donington   \n",
       "1   part-time   per hour, negotiable            London            London   \n",
       "2  birmingham              per annum     Brierley Hill     Brierley Hill   \n",
       "3  birmingham              per annum        Birmingham        Birmingham   \n",
       "4     ireland              per annum           Ireland           Ireland   \n",
       "\n",
       "              posted_by publish_date floor_wage ceiling_wage currency  \\\n",
       "0  Signum Solutions Ltd   2015-01-19     15,000       18,000        £   \n",
       "1              Westside   2015-02-03       7.00        10.00        £   \n",
       "2                   IHG   2015-01-13     15,838       16,233        £   \n",
       "3        KSA Associates   2015-02-02     18,000       20,000        £   \n",
       "4                  Reed   2015-02-03     50,000       55,000        €   \n",
       "\n",
       "                                     job_description  \n",
       "0  Signum Solutions Ltd is an ambitious IT Soluti...  \n",
       "1  WESTSIDE LONDON We are a fashion retailer loca...  \n",
       "2  IHG, the world's most global hotel company, is...  \n",
       "3  We are a young and energetic Accountancy pract...  \n",
       "4  Job Description Highly experienced Store Manag...  "
      ]
     },
     "execution_count": 16,
     "metadata": {},
     "output_type": "execute_result"
    }
   ],
   "source": [
    "vacancies.head()"
   ]
  },
  {
   "cell_type": "code",
   "execution_count": 17,
   "metadata": {},
   "outputs": [
    {
     "data": {
      "text/plain": [
       "(2054604, 14)"
      ]
     },
     "execution_count": 17,
     "metadata": {},
     "output_type": "execute_result"
    }
   ],
   "source": [
    "vacancies.shape"
   ]
  },
  {
   "cell_type": "code",
   "execution_count": 25,
   "metadata": {},
   "outputs": [],
   "source": [
    "merged = vacancies.merge(areasWithParish, left_on='county', right_on='Name', how='left')"
   ]
  },
  {
   "cell_type": "code",
   "execution_count": 26,
   "metadata": {},
   "outputs": [
    {
     "data": {
      "text/plain": [
       "(3057561, 16)"
      ]
     },
     "execution_count": 26,
     "metadata": {},
     "output_type": "execute_result"
    }
   ],
   "source": [
    "merged.shape"
   ]
  },
  {
   "cell_type": "code",
   "execution_count": 27,
   "metadata": {},
   "outputs": [],
   "source": [
    "non_matches = merged[merged['Name'].isna()]['county'].unique().tolist()"
   ]
  },
  {
   "cell_type": "code",
   "execution_count": 28,
   "metadata": {},
   "outputs": [
    {
     "name": "stdout",
     "output_type": "stream",
     "text": [
      "5780\n"
     ]
    }
   ],
   "source": [
    "print(len(non_matches))"
   ]
  },
  {
   "cell_type": "code",
   "execution_count": null,
   "metadata": {},
   "outputs": [],
   "source": []
  }
 ],
 "metadata": {
  "kernelspec": {
   "display_name": "Python 3 (ipykernel)",
   "language": "python",
   "name": "python3"
  },
  "language_info": {
   "codemirror_mode": {
    "name": "ipython",
    "version": 3
   },
   "file_extension": ".py",
   "mimetype": "text/x-python",
   "name": "python",
   "nbconvert_exporter": "python",
   "pygments_lexer": "ipython3",
   "version": "3.9.7"
  }
 },
 "nbformat": 4,
 "nbformat_minor": 4
}
